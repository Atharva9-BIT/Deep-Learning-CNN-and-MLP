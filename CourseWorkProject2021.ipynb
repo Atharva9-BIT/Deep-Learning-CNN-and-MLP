{
 "cells": [
  {
   "cell_type": "markdown",
   "metadata": {},
   "source": [
    "# CS5950J Course Project\n",
    "\n",
    "This project recaps and systematises work that has been done in the exercise notebooks: if you have worked through the notebooks, little extra work is required.  The aim of the project is to give you the experience of trying to develop a neural network classifier (or regressor), involving setting up a model, optimising the amount of regularisation, investigating its performance, and devising a new model. \n",
    "\n",
    "You should do your work in this notebook, filling in the sections below. To do the work, you may re-use code from ***any of the lab-session sheets provided so far***. (In fact, you should be able to do nearly the entire project using code taken from previous lab sessions.) \n",
    "\n",
    "Please complete this workbook and submit it on Moodle, with all outputs (numbers and graphs) visible and included. (I do not want to have to evaluate your notebook!) \n",
    "\n",
    "Ideally, do not re-use cells for multiple computations, accumulating the results by hand: have a a separate cell for each computation, so that I can look through the whole notebook and see what you have done, in sequence. This makes it much easier for me to understand what has happened if something has gone wrong.\n",
    "\n",
    "This project has **10%** of the marks of the course.\n",
    "\n",
    "The submission deadline is Wednesday 30th June at 4pm (on Moodle of course). \n",
    "\n",
    "Please write your student number: 100947767     \n",
    "so that I have an identifier of which worksheet I am marking, to prevent any confusion! (I have to download your notebooks before marking them, so I don't want to accidentally give credit for your notebook to somebody else...) "
   ]
  },
  {
   "cell_type": "markdown",
   "metadata": {},
   "source": [
    "## Set up dataset\n",
    "\n",
    "You may choose any of the datasets included with Pytorch, or used in the course so far (including, for example, the percolation data). (It is a free country and you may use any other data you wish.)\n",
    "\n",
    "A safe choice would be either the MNIST data or the MNIST-fashion data, which is a drop-in replacement for MNIST (same size data format, same number of classes, same number of training and test examples). \n",
    "\n",
    "A more interesting choice would be CIFAR-10\n",
    "\n",
    "In setting up the data, you should set up a training set and a test set. The test set should be large enough to give a reasonably accurate assessment of the error-rate (or loss) of your models: preferably at least 10,000 examples.\n",
    "\n",
    "For the learning curve experiment (below), you will need to construct training sets of different sizes, with the largest at least 10 times the smallest. For the MNIST data, for example, your smallest training set might be 500, with sizes 500, 1000, 2000, 4000, 8000, 16000, 32000, and perhaps 60000 if you have time. (You get no extra marks for doing very long experiments.) "
   ]
  },
  {
   "cell_type": "markdown",
   "metadata": {},
   "source": [
    "## Set up model \n",
    "\n",
    "Set up a Pytorch model (you may find it helpful to keep it simple and fast to train). Train on an intermediate-sized dataset (if you are using MNIST, say 2000 or 4000). \n",
    "\n",
    "\n",
    "Plot the loss and error rate as a function of training epochs. \n",
    "\n",
    "\n",
    "###  1.  Assessment of initial model:    ***12 marks***\n",
    "\n",
    "Ensure that your model is complex enough to *overfit* the training data: that is the loss/error-rate on the training set should be below your target loss/error-rate, and the loss/error-rate on the validation set should be higher than this (preferably higher than your target error-rate). "
   ]
  },
  {
   "cell_type": "code",
   "execution_count": 254,
   "metadata": {},
   "outputs": [],
   "source": [
    "# Importing all the libraries required for dataset and Neural network\n",
    "import numpy as np\n",
    "import matplotlib.pyplot as plt\n",
    "import matplotlib.cm as cm  # colormaps\n",
    "import torch\n",
    "import torch.nn as nn\n",
    "import pandas as pd \n",
    "import torch.nn.functional as F\n",
    "import torchvision\n",
    "import torchvision.datasets as datasets\n",
    "from torchvision import transforms\n",
    "import keras\n",
    "import tensorflow\n",
    "from tensorflow import keras\n",
    "from tensorflow.keras.models import Sequential\n",
    "from tensorflow.keras.layers import Conv2D, MaxPooling2D,Dropout\n",
    "from tensorflow.keras.layers import Dense, Activation, Flatten\n",
    "from keras.utils import np_utils\n",
    "%matplotlib inline\n",
    "\n",
    "import os\n",
    "os.environ['KMP_DUPLICATE_LIB_OK'] = 'True'\n",
    "\n",
    "from keras.datasets import mnist\n",
    "from keras.models import Sequential\n",
    "from keras.layers import Dense, Dropout, Conv2D, MaxPool2D, Flatten\n",
    "from keras.utils import np_utils\n",
    "# to calculate accuracy\n",
    "from sklearn.metrics import accuracy_score"
   ]
  },
  {
   "cell_type": "code",
   "execution_count": 255,
   "metadata": {},
   "outputs": [
    {
     "name": "stdout",
     "output_type": "stream",
     "text": [
      "\n",
      "\n",
      "(12000, 28, 28)\n",
      "(12000,)\n",
      "(10000, 28, 28)\n",
      "(10000,)\n",
      "Shape of one-hot encoding:  (12000,)\n",
      "Shape after one-hot encoding:  (12000, 10)\n"
     ]
    }
   ],
   "source": [
    "#Loading the data set through keras and working on it\n",
    "(X_train, y_train), (X_test, y_test) = mnist.load_data()\n",
    "\n",
    "#reducing the size of data for overfitting purpose as well as recommended according to pdf\n",
    "X_train = X_train[0:12000]\n",
    "y_train = y_train[0:12000]\n",
    "print(\"\\n\")\n",
    "print(X_train.shape)\n",
    "print(y_train.shape)\n",
    "print(X_test.shape)\n",
    "print(y_test.shape)\n",
    "\n",
    "# flatten the images to 1D 787 pixels\n",
    "X_train = X_train.reshape(12000, 784)\n",
    "X_test = X_test.reshape(10000, 784)\n",
    "\n",
    "#using cnn we need to convert images into 2d so we need to change the dimesnsions as requirment\n",
    "# building the input vector from the 28x28 pixels\n",
    "X_train = X_train.reshape(X_train.shape[0], 28, 28, 1)\n",
    "X_test = X_test.reshape(X_test.shape[0], 28, 28, 1)\n",
    "#data to float type\n",
    "X_train = X_train.astype('float64')\n",
    "X_test = X_test.astype('float64')\n",
    "\n",
    "# normalizing the data\n",
    "X_train = X_train / 255\n",
    "X_test = X_test / 255\n",
    "        \n",
    "# one-hot encoder using keras' numpy\n",
    "class_n = 10\n",
    "print(\"Shape of one-hot encoding: \", y_train.shape)\n",
    "Y_train = keras.utils.to_categorical(y_train, class_n)\n",
    "Y_test = keras.utils.to_categorical(y_test, class_n)\n",
    "print(\"Shape after one-hot encoding: \", Y_train.shape)\n"
   ]
  },
  {
   "cell_type": "code",
   "execution_count": 256,
   "metadata": {},
   "outputs": [],
   "source": [
    "# building a linear stack of layers with the sequential model\n",
    "def CNN1(X_train,Y_train,X_test,Y_test):\n",
    "    \n",
    "    model = Sequential()\n",
    "    \n",
    "    # convolutional layer for mnist\n",
    "    model.add(Conv2D(10,kernel_size=(3,3), strides=(1,1), activation='relu', input_shape=(28,28,1)))\n",
    "    model.add(MaxPool2D(pool_size=(1,1)))\n",
    "\n",
    "    # flattening \n",
    "    model.add(Flatten())\n",
    "    \n",
    "    # hidden layer of relu\n",
    "    model.add(Dense(100, activation='relu'))\n",
    "    \n",
    "    # hidden layer sigmoid\n",
    "    model.add(Dense(10, activation='softmax'))\n",
    "    \n",
    "    #compiling the model and training the model for 8 epochs\n",
    "    model.compile(loss='categorical_crossentropy', metrics=['accuracy'], optimizer='rmsprop')\n",
    "    \n",
    "    out = model.fit(X_train, Y_train, batch_size=80, epochs= 8, validation_data =(X_test,Y_test))\n",
    "    #predictions of model \n",
    "    score = model.evaluate(X_test,Y_test,batch_size = 80)\n",
    "    print(\"\\n\")\n",
    "    print(\"Validation_loss is = \",score[0])\n",
    "    print(\"\\n\")\n",
    "    print(\"Accuracy is = \",score[1])\n",
    "    return out"
   ]
  },
  {
   "cell_type": "code",
   "execution_count": 257,
   "metadata": {},
   "outputs": [
    {
     "name": "stdout",
     "output_type": "stream",
     "text": [
      "Epoch 1/8\n",
      "150/150 [==============================] - 4s 23ms/step - loss: 0.7063 - accuracy: 0.7842 - val_loss: 0.2711 - val_accuracy: 0.9189\n",
      "Epoch 2/8\n",
      "150/150 [==============================] - 3s 21ms/step - loss: 0.1919 - accuracy: 0.9440 - val_loss: 0.1797 - val_accuracy: 0.9460\n",
      "Epoch 3/8\n",
      "150/150 [==============================] - 3s 21ms/step - loss: 0.1227 - accuracy: 0.9631 - val_loss: 0.1672 - val_accuracy: 0.9501\n",
      "Epoch 4/8\n",
      "150/150 [==============================] - 3s 21ms/step - loss: 0.0704 - accuracy: 0.9803 - val_loss: 0.1401 - val_accuracy: 0.9585\n",
      "Epoch 5/8\n",
      "150/150 [==============================] - 3s 21ms/step - loss: 0.0455 - accuracy: 0.9874 - val_loss: 0.1232 - val_accuracy: 0.9622\n",
      "Epoch 6/8\n",
      "150/150 [==============================] - 3s 21ms/step - loss: 0.0306 - accuracy: 0.9925 - val_loss: 0.1135 - val_accuracy: 0.9674\n",
      "Epoch 7/8\n",
      "150/150 [==============================] - 3s 21ms/step - loss: 0.0220 - accuracy: 0.9954 - val_loss: 0.1161 - val_accuracy: 0.9670\n",
      "Epoch 8/8\n",
      "150/150 [==============================] - 3s 21ms/step - loss: 0.0132 - accuracy: 0.9966 - val_loss: 0.1272 - val_accuracy: 0.9661\n",
      "125/125 [==============================] - 1s 7ms/step - loss: 0.1272 - accuracy: 0.9661\n",
      "\n",
      "\n",
      "Validation_loss is =  0.12722834944725037\n",
      "\n",
      "\n",
      "Accuracy is =  0.9660999774932861\n"
     ]
    }
   ],
   "source": [
    "#calling the function and loss and accuracy for the model \n",
    "out = CNN1(X_train,Y_train,X_test,Y_test)\n"
   ]
  },
  {
   "cell_type": "markdown",
   "metadata": {},
   "source": [
    "As you can see that  the loss/error-rate on the training set is below target loss/error-rate, and the loss/error-rate on the validation set is higher i.e the data is getting overfitted because of less size in train data "
   ]
  },
  {
   "cell_type": "code",
   "execution_count": 258,
   "metadata": {},
   "outputs": [
    {
     "data": {
      "text/plain": [
       "<matplotlib.legend.Legend at 0x20702fd25b0>"
      ]
     },
     "execution_count": 258,
     "metadata": {},
     "output_type": "execute_result"
    },
    {
     "data": {
      "image/png": "[encoded data removed]",
      "text/plain": [
       "<Figure size 432x288 with 1 Axes>"
      ]
     },
     "metadata": {
      "needs_background": "light"
     },
     "output_type": "display_data"
    }
   ],
   "source": [
    "#plot for loss and training epochs of error rate for training set and validation set\n",
    "\n",
    "plt.plot(out.history['loss'])\n",
    "plt.plot(out.history['val_loss'])\n",
    "plt.title('Loss in the model')\n",
    "plt.ylabel('Loss')\n",
    "plt.xlabel('epoch')\n",
    "plt.legend(['train_set', 'val_set'], loc='upper right')\n",
    "    \n"
   ]
  },
  {
   "cell_type": "markdown",
   "metadata": {},
   "source": [
    "### 2.  Regularisation experiment:  ***12 marks***\n",
    "\n",
    "Now select a type of regularisation (which may be L2, or dropout) and train your initial model with different amounts of regularisation. \n",
    "\n",
    "For L2 regularisation, compare 0 regularisation with very small amounts of regularisation -- try 0.0001, 0.001, 0.01, and see for what level of L2 regularisation there starts to be an effect. \n",
    "\n",
    "A small amount of regularisation may improve the validation set performance of your overfitted model; too much regularisation may make performance on the validation set worse. \n",
    "\n",
    "Train your model multiple times, applying different amounts of regularisation, and plot a graph showing the effect of different amounts of regularisation. \n",
    "\n",
    "Plot the amount of regularisation along the x axis, and the validation set performance (loss/error-rate) on the y axis.  How does regularisation affect the performance of your initial network, and what is the optimal amount? "
   ]
  },
  {
   "cell_type": "code",
   "execution_count": 265,
   "metadata": {},
   "outputs": [],
   "source": [
    "# Building Cnn \n",
    "def CNN2(X_train,Y_train,X_test,Y_test):\n",
    "    \n",
    "    model = Sequential()\n",
    "    \n",
    "    #convolutional layer\n",
    "    model.add(Conv2D(10, kernel_size=(3,3), strides=(1,1), padding='valid', activation='relu', input_shape=(28,28,1)))\n",
    "    model.add(MaxPool2D(pool_size=(1,1)))\n",
    "    \n",
    "    #adding 1droput layer\n",
    "    model.add(Dropout(0.3))\n",
    "    model.add(Flatten())\n",
    "    \n",
    "    # hidden layer\n",
    "    model.add(Dense(100, activation='relu'))\n",
    "    \n",
    "    #2 Dropout layer\n",
    "    model.add(Flatten())\n",
    "    model.add(Dropout(0.3))\n",
    "    model.add(Dense(10, activation='softmax'))\n",
    "    \n",
    "    # training model on epochs\n",
    "    model.compile(loss='categorical_crossentropy', metrics=['accuracy'], optimizer='rmsprop')\n",
    "    \n",
    "    #fitting model\n",
    "    out1 = model.fit(X_train, Y_train, batch_size=80, epochs= 8, validation_data =(X_test,Y_test))\n",
    "    score = model.evaluate(X_test,Y_test,batch_size = 80)\n",
    "    print(\"\\n\")\n",
    "    print(\"Validation_loss is = \",score[0])\n",
    "    print(\"\\n\")\n",
    "    print(\"Accuracy is = \",score[1])\n",
    "    return out1"
   ]
  },
  {
   "cell_type": "code",
   "execution_count": 266,
   "metadata": {},
   "outputs": [
    {
     "name": "stdout",
     "output_type": "stream",
     "text": [
      "Epoch 1/8\n",
      "150/150 [==============================] - 4s 25ms/step - loss: 0.8964 - accuracy: 0.7362 - val_loss: 0.2674 - val_accuracy: 0.9206\n",
      "Epoch 2/8\n",
      "150/150 [==============================] - 3s 22ms/step - loss: 0.2622 - accuracy: 0.9192 - val_loss: 0.1845 - val_accuracy: 0.9452\n",
      "Epoch 3/8\n",
      "150/150 [==============================] - 3s 23ms/step - loss: 0.1786 - accuracy: 0.9452 - val_loss: 0.1467 - val_accuracy: 0.9558\n",
      "Epoch 4/8\n",
      "150/150 [==============================] - 3s 23ms/step - loss: 0.1410 - accuracy: 0.9606 - val_loss: 0.1348 - val_accuracy: 0.9587\n",
      "Epoch 5/8\n",
      "150/150 [==============================] - 3s 23ms/step - loss: 0.1079 - accuracy: 0.9657 - val_loss: 0.1207 - val_accuracy: 0.9634\n",
      "Epoch 6/8\n",
      "150/150 [==============================] - 3s 23ms/step - loss: 0.0954 - accuracy: 0.9720 - val_loss: 0.1117 - val_accuracy: 0.9650\n",
      "Epoch 7/8\n",
      "150/150 [==============================] - 3s 23ms/step - loss: 0.0725 - accuracy: 0.9755 - val_loss: 0.1133 - val_accuracy: 0.9635\n",
      "Epoch 8/8\n",
      "150/150 [==============================] - 3s 22ms/step - loss: 0.0648 - accuracy: 0.9800 - val_loss: 0.1020 - val_accuracy: 0.9686\n",
      "125/125 [==============================] - 1s 6ms/step - loss: 0.1020 - accuracy: 0.9686\n",
      "\n",
      "\n",
      "Validation_loss is =  0.10201960802078247\n",
      "\n",
      "\n",
      "Accuracy is =  0.9685999751091003\n"
     ]
    },
    {
     "data": {
      "text/plain": [
       "<matplotlib.legend.Legend at 0x207019a9430>"
      ]
     },
     "execution_count": 266,
     "metadata": {},
     "output_type": "execute_result"
    },
    {
     "data": {
      "image/png": "[encoded data removed]",
      "text/plain": [
       "<Figure size 432x288 with 1 Axes>"
      ]
     },
     "metadata": {
      "needs_background": "light"
     },
     "output_type": "display_data"
    }
   ],
   "source": [
    "#calling function for model and printing accuracy and epochs with graph with dropout\n",
    "out1 = CNN2(X_train,Y_train,X_test,Y_test)\n",
    "\n",
    "plt.plot(out2.history['loss'])\n",
    "plt.plot(out2.history['val_loss'])\n",
    "plt.title('Loss in the model')\n",
    "plt.ylabel('Loss')\n",
    "plt.xlabel('epoch')\n",
    "plt.legend(['train_set', 'val_set'], loc='upper right')\n",
    "    \n"
   ]
  },
  {
   "cell_type": "markdown",
   "metadata": {},
   "source": [
    "As we can see that there there is slight decrease in the validation loss by adding Dropout and changing activation function and slight increase in accuracy on data. Tried different activation function and batch size on this part (only this part worked effiectly all other were giving the same results or either decreasing the results(loss validation and accuracy)).\n",
    "\n",
    "The optimal value by using droput (0.3) is 16% and it is decreasing the loss on with dropout, and also increasing the accuracy."
   ]
  },
  {
   "cell_type": "markdown",
   "metadata": {},
   "source": [
    "### 3.  Learning curve experiment:  ***12 marks***\n",
    "\n",
    "Now train your model (with the amount of regularisation you selected) on different amounts of training data. \n",
    "\n",
    "Plot the performance (loss/error-rate) of the model on the validation set against the size of the training set. \n",
    "This is typically best done on a log-log plot. \n",
    "\n",
    "Describe the approximate relationship between the training set size and loss / error-rate.  Does the network performance appear to improve as some power of the amount of data in the training set?  If so, by what power ? \n",
    "\n",
    "For example, a very good rate of improvement is for error-rate to be proportional to $\\dfrac{1}{\\sqrt{n}}$ where $n$ is the training set size.  For your model, the rate of improvement of validation error with training set size may not be as fast as this (or it may, who knows?)  The aim of this exercise is to find out what it actually is. "
   ]
  },
  {
   "cell_type": "code",
   "execution_count": 274,
   "metadata": {},
   "outputs": [],
   "source": [
    "\n",
    "#on cnn model     \n",
    "def CNN(X_train,Y_train,X_test,Y_test):\n",
    "    \n",
    "    model = Sequential()\n",
    "    \n",
    "    model.add(Conv2D(10, kernel_size=(3,3), strides=(1,1), padding='valid', activation='relu', input_shape=(28,28,1)))\n",
    "    model.add(MaxPool2D(pool_size=(1,1)))\n",
    "    \n",
    "    model.add(Flatten())\n",
    "    \n",
    "    # hidden layer\n",
    "    model.add(Dropout(0.3))\n",
    "    model.add(Dense(100, activation='relu'))\n",
    "    \n",
    "    # hidden layer\n",
    "    model.add(Flatten())\n",
    "    model.add(Dropout(0.3))\n",
    "    model.add(Dense(10, activation='softmax'))\n",
    "\n",
    "    # training model on epochs\n",
    "    model.compile(loss='categorical_crossentropy', metrics=['accuracy'], optimizer='rmsprop')\n",
    "    \n",
    "    out2 = model.fit(X_train, Y_train, batch_size=80, epochs= 8, validation_data =(X_test,Y_test))\n",
    "    score = model.evaluate(X_test,Y_test,batch_size = 80)\n",
    "    print(\"\\n\")\n",
    "    print(\"Val_loss is = \",score[0])\n",
    "    print(\"\\n\")\n",
    "    print(\"Accuracy is = \",score[1])\n",
    "    \n",
    "    return out2    \n"
   ]
  },
  {
   "cell_type": "code",
   "execution_count": 328,
   "metadata": {},
   "outputs": [
    {
     "name": "stdout",
     "output_type": "stream",
     "text": [
      "Epoch 1/8\n",
      "25/25 [==============================] - 3s 98ms/step - loss: 1.5065 - accuracy: 0.5062 - val_loss: 0.5264 - val_accuracy: 0.8543\n",
      "Epoch 2/8\n",
      "25/25 [==============================] - 2s 85ms/step - loss: 0.5284 - accuracy: 0.8555 - val_loss: 0.4116 - val_accuracy: 0.8780\n",
      "Epoch 3/8\n",
      "25/25 [==============================] - 2s 85ms/step - loss: 0.3807 - accuracy: 0.8854 - val_loss: 0.3607 - val_accuracy: 0.8917\n",
      "Epoch 4/8\n",
      "25/25 [==============================] - 2s 84ms/step - loss: 0.2970 - accuracy: 0.9189 - val_loss: 0.3209 - val_accuracy: 0.9063\n",
      "Epoch 5/8\n",
      "25/25 [==============================] - 2s 84ms/step - loss: 0.2410 - accuracy: 0.9272 - val_loss: 0.3382 - val_accuracy: 0.9008\n",
      "Epoch 6/8\n",
      "25/25 [==============================] - 2s 85ms/step - loss: 0.2095 - accuracy: 0.9400 - val_loss: 0.2986 - val_accuracy: 0.9105\n",
      "Epoch 7/8\n",
      "25/25 [==============================] - 2s 84ms/step - loss: 0.1734 - accuracy: 0.9501 - val_loss: 0.2986 - val_accuracy: 0.9087\n",
      "Epoch 8/8\n",
      "25/25 [==============================] - 2s 83ms/step - loss: 0.1368 - accuracy: 0.9606 - val_loss: 0.2713 - val_accuracy: 0.9229\n",
      "125/125 [==============================] - 1s 11ms/step - loss: 0.2713 - accuracy: 0.9229\n",
      "\n",
      "\n",
      "Val_loss is =  0.27129417657852173\n",
      "\n",
      "\n",
      "Accuracy is =  0.9229000210762024\n",
      "Epoch 1/8\n",
      "50/50 [==============================] - 4s 64ms/step - loss: 1.2022 - accuracy: 0.6307 - val_loss: 0.3766 - val_accuracy: 0.8920\n",
      "Epoch 2/8\n",
      "50/50 [==============================] - 3s 59ms/step - loss: 0.4172 - accuracy: 0.8691 - val_loss: 0.3097 - val_accuracy: 0.9093\n",
      "Epoch 3/8\n",
      "50/50 [==============================] - 3s 58ms/step - loss: 0.3256 - accuracy: 0.9086 - val_loss: 0.2907 - val_accuracy: 0.9132\n",
      "Epoch 4/8\n",
      "50/50 [==============================] - 3s 59ms/step - loss: 0.2529 - accuracy: 0.9183 - val_loss: 0.2410 - val_accuracy: 0.9274\n",
      "Epoch 5/8\n",
      "50/50 [==============================] - 3s 62ms/step - loss: 0.1838 - accuracy: 0.9436 - val_loss: 0.2335 - val_accuracy: 0.9306\n",
      "Epoch 6/8\n",
      "50/50 [==============================] - 3s 61ms/step - loss: 0.1663 - accuracy: 0.9467 - val_loss: 0.2053 - val_accuracy: 0.9386\n",
      "Epoch 7/8\n",
      "50/50 [==============================] - 3s 58ms/step - loss: 0.1388 - accuracy: 0.9613 - val_loss: 0.2091 - val_accuracy: 0.9371\n",
      "Epoch 8/8\n",
      "50/50 [==============================] - 3s 58ms/step - loss: 0.1222 - accuracy: 0.9644 - val_loss: 0.2094 - val_accuracy: 0.9374\n",
      "125/125 [==============================] - 2s 12ms/step - loss: 0.2094 - accuracy: 0.9374\n",
      "\n",
      "\n",
      "Val_loss is =  0.2094065248966217\n",
      "\n",
      "\n",
      "Accuracy is =  0.9373999834060669\n",
      "Epoch 1/8\n",
      "75/75 [==============================] - 5s 54ms/step - loss: 1.1093 - accuracy: 0.6455 - val_loss: 0.3455 - val_accuracy: 0.8966\n",
      "Epoch 2/8\n",
      "75/75 [==============================] - 5s 67ms/step - loss: 0.3765 - accuracy: 0.8850 - val_loss: 0.2739 - val_accuracy: 0.9178\n",
      "Epoch 3/8\n",
      "75/75 [==============================] - 4s 52ms/step - loss: 0.2929 - accuracy: 0.9098 - val_loss: 0.2615 - val_accuracy: 0.9244\n",
      "Epoch 4/8\n",
      "75/75 [==============================] - 4s 52ms/step - loss: 0.2317 - accuracy: 0.9297 - val_loss: 0.2199 - val_accuracy: 0.93460.2\n",
      "Epoch 5/8\n",
      "75/75 [==============================] - 4s 56ms/step - loss: 0.2078 - accuracy: 0.9385 - val_loss: 0.2130 - val_accuracy: 0.9370\n",
      "Epoch 6/8\n",
      "75/75 [==============================] - 4s 52ms/step - loss: 0.1781 - accuracy: 0.9480 - val_loss: 0.2061 - val_accuracy: 0.9379\n",
      "Epoch 7/8\n",
      "75/75 [==============================] - 4s 57ms/step - loss: 0.1388 - accuracy: 0.9574 - val_loss: 0.1875 - val_accuracy: 0.9457\n",
      "Epoch 8/8\n",
      "75/75 [==============================] - 4s 59ms/step - loss: 0.1313 - accuracy: 0.9606 - val_loss: 0.2038 - val_accuracy: 0.9403\n",
      "125/125 [==============================] - 2s 13ms/step - loss: 0.2038 - accuracy: 0.9403\n",
      "\n",
      "\n",
      "Val_loss is =  0.2037537395954132\n",
      "\n",
      "\n",
      "Accuracy is =  0.9402999877929688\n",
      "Epoch 1/8\n",
      "100/100 [==============================] - 6s 52ms/step - loss: 0.9293 - accuracy: 0.7228 - val_loss: 0.3012 - val_accuracy: 0.9110\n",
      "Epoch 2/8\n",
      "100/100 [==============================] - 5s 48ms/step - loss: 0.3078 - accuracy: 0.9083 - val_loss: 0.2164 - val_accuracy: 0.9339\n",
      "Epoch 3/8\n",
      "100/100 [==============================] - 6s 58ms/step - loss: 0.2173 - accuracy: 0.9357 - val_loss: 0.1871 - val_accuracy: 0.9445\n",
      "Epoch 4/8\n",
      "100/100 [==============================] - 5s 48ms/step - loss: 0.1844 - accuracy: 0.9508 - val_loss: 0.1687 - val_accuracy: 0.9483\n",
      "Epoch 5/8\n",
      "100/100 [==============================] - 5s 48ms/step - loss: 0.1284 - accuracy: 0.9645 - val_loss: 0.1520 - val_accuracy: 0.9544\n",
      "Epoch 6/8\n",
      "100/100 [==============================] - 5s 48ms/step - loss: 0.1073 - accuracy: 0.9648 - val_loss: 0.1389 - val_accuracy: 0.9592\n",
      "Epoch 7/8\n",
      "100/100 [==============================] - 5s 49ms/step - loss: 0.0794 - accuracy: 0.9776 - val_loss: 0.1356 - val_accuracy: 0.9599\n",
      "Epoch 8/8\n",
      "100/100 [==============================] - 5s 54ms/step - loss: 0.0731 - accuracy: 0.9788 - val_loss: 0.1316 - val_accuracy: 0.9617\n",
      "125/125 [==============================] - 2s 15ms/step - loss: 0.1316 - accuracy: 0.9617 0s - loss: 0.1302 - accuracy: \n",
      "\n",
      "\n",
      "Val_loss is =  0.13164159655570984\n",
      "\n",
      "\n",
      "Accuracy is =  0.9617000222206116\n",
      "Epoch 1/8\n",
      "125/125 [==============================] - 8s 57ms/step - loss: 0.8825 - accuracy: 0.7264 - val_loss: 0.2976 - val_accuracy: 0.9117\n",
      "Epoch 2/8\n",
      "125/125 [==============================] - 6s 48ms/step - loss: 0.3115 - accuracy: 0.9049 - val_loss: 0.2121 - val_accuracy: 0.9358\n",
      "Epoch 3/8\n",
      "125/125 [==============================] - 6s 49ms/step - loss: 0.2082 - accuracy: 0.9399 - val_loss: 0.1739 - val_accuracy: 0.9464\n",
      "Epoch 4/8\n",
      "125/125 [==============================] - 6s 47ms/step - loss: 0.1699 - accuracy: 0.9505 - val_loss: 0.1536 - val_accuracy: 0.9546\n",
      "Epoch 5/8\n",
      "125/125 [==============================] - 6s 49ms/step - loss: 0.1278 - accuracy: 0.9615 - val_loss: 0.1432 - val_accuracy: 0.9575\n",
      "Epoch 6/8\n",
      "125/125 [==============================] - 8s 61ms/step - loss: 0.1027 - accuracy: 0.9683 - val_loss: 0.1308 - val_accuracy: 0.9612\n",
      "Epoch 7/8\n",
      "125/125 [==============================] - 8s 61ms/step - loss: 0.0871 - accuracy: 0.9738 - val_loss: 0.1303 - val_accuracy: 0.9600\n",
      "Epoch 8/8\n",
      "125/125 [==============================] - 6s 50ms/step - loss: 0.0751 - accuracy: 0.9764 - val_loss: 0.1231 - val_accuracy: 0.9662\n",
      "125/125 [==============================] - 2s 14ms/step - loss: 0.1231 - accuracy: 0.9662\n",
      "\n",
      "\n",
      "Val_loss is =  0.12309236824512482\n",
      "\n",
      "\n",
      "Accuracy is =  0.9661999940872192\n"
     ]
    }
   ],
   "source": [
    "t_size = [2000, 4000, 6000, 8000, 10000]\n",
    "cnn = []\n",
    "for i in range(5):\n",
    "    arr = CNN(X_train[0:t_size[i]],Y_train[0:t_size[i]], X_test, Y_test)\n",
    "    cnn.append(arr)"
   ]
  },
  {
   "cell_type": "code",
   "execution_count": 329,
   "metadata": {},
   "outputs": [
    {
     "data": {
      "image/png": "[encoded data removed]",
      "text/plain": [
       "<Figure size 432x288 with 1 Axes>"
      ]
     },
     "metadata": {
      "needs_background": "light"
     },
     "output_type": "display_data"
    }
   ],
   "source": [
    "def learning_curve(p, t_size):\n",
    "    a = []\n",
    "    loss_set = []\n",
    "    val_set = []\n",
    "    for i in range(len(t_size)):   \n",
    "        a.append(\"Training Loss \"+str(i+1))\n",
    "        a.append(\"Validation Loss\"+str(i+1))\n",
    "        loss_set.append(p[i].history['loss'][-1])\n",
    "        val_set.append(p[i].history['val_loss'][-1])\n",
    "    plt.plot(t_size,loss_set)\n",
    "    plt.plot(t_size,val_set) \n",
    "    plt.legend(a, loc='upper right')\n",
    "    plt.title('Training Size and Loss Error-Rate Comparison (Log-log Plot)')\n",
    "    plt.ylabel('Loss Error Rate')\n",
    "    plt.xlabel('Train Size')\n",
    "    plt.show()\n",
    "\n",
    "learning_curve(cnn,t_size)"
   ]
  },
  {
   "cell_type": "markdown",
   "metadata": {},
   "source": [
    "By choosing the same model we can see that there is slight increase in loss_rate as well as accuracy on the data is also increasing. Loss is increased by 0.02 percent which means as the training size increases loss error rate on the graph decreases exponentially. \n",
    "\n",
    "At some point there is some increase in loss as well as accuracy but at the end loss error rate is decreasing on graph because on train data size. \n",
    "\n",
    "So there is some increase in accuracy according to the plot."
   ]
  },
  {
   "cell_type": "markdown",
   "metadata": {},
   "source": [
    "### 4. Second model:   *** 14 marks ***\n",
    "\n",
    "Devise what you believe to be a better neural network architecture for the problem (e.g. for MNIST you might use a fully-connected network for your initial model, and then try a convolutional net for your second model).\n",
    "\n",
    "Repeat sections 2 (regularisation experiment), and determine whether it has better validation set performance than the first model, for an intermediate size of training set (e.g. 2000 or 4000 for the MNIST data). \n",
    "\n",
    "Repeat section 3. Does your model have a different learning curve from the first? Plot the learning curves for the first and second model on the same graph, to compare them. Comment: is there a more rapid reduction of error-rate with training set size for your second model?  "
   ]
  },
  {
   "cell_type": "code",
   "execution_count": 290,
   "metadata": {},
   "outputs": [
    {
     "name": "stdout",
     "output_type": "stream",
     "text": [
      "(12000, 28, 28)\n",
      "(12000,)\n",
      "(10000, 28, 28)\n",
      "(10000,)\n",
      "Shape of one-hot encoding:  (12000,)\n",
      "Shape after one-hot encoding:  (12000, 10)\n"
     ]
    }
   ],
   "source": [
    "#same data with other var names\n",
    "(X_train1, Y_train1), (X_test1, Y_test1) = mnist.load_data()\n",
    "\n",
    "X_train1 = X_train1[0:12000]\n",
    "Y_train1 = Y_train1[0:12000]\n",
    "print(X_train1.shape)\n",
    "print(Y_train1.shape)\n",
    "print(X_test1.shape)\n",
    "print(Y_test1.shape)\n",
    "\n",
    "# Flattening the images from the 28x28 pixels to 1D 787 pixels\n",
    "X_train1 = X_train1.reshape(12000, 784)\n",
    "X_test1 = X_test1.reshape(10000, 784)\n",
    "\n",
    "\n",
    "# normalizing the data of mnist\n",
    "X_train1 = X_train1 / 255\n",
    "X_test1 = X_test1 / 255\n",
    "    \n",
    "    \n",
    "# one-hot encoding using keras' numpy-related utilities\n",
    "class_n = 10\n",
    "print(\"Shape of one-hot encoding: \", Y_train1.shape)\n",
    "Y_train1 = keras.utils.to_categorical(Y_train1, class_n)\n",
    "Y_test1 = keras.utils.to_categorical(Y_test1, class_n)\n",
    "print(\"Shape after one-hot encoding: \", Y_train1.shape)\n"
   ]
  },
  {
   "cell_type": "code",
   "execution_count": 291,
   "metadata": {},
   "outputs": [],
   "source": [
    "def MLP_withoutdropout(X_train1,Y_train1,X_test1,Y_test1):\n",
    "    \n",
    "    #You can also simply add layers via the .add() method:\n",
    "    model = Sequential()\n",
    "    model.add(Dense(100, input_shape=(784,), activation='relu'))\n",
    "    \n",
    "    model.add(Dense(100, activation='relu'))\n",
    "    \n",
    "    model.add(Dense(10, activation='softmax'))\n",
    "    #model.add(Dense(10, activation='relu'))\n",
    "    # compiling the sequential model\n",
    "    \n",
    "    model.compile(loss='categorical_crossentropy', metrics=['accuracy'], optimizer='rmsprop')\n",
    "    \n",
    "    # training the model for 10 epochs\n",
    "    out3 = model.fit(X_train1, Y_train1, batch_size=80, epochs=8, validation_data=(X_test1, Y_test1))\n",
    "    score1 = model.evaluate(X_test1,Y_test1,batch_size = 80)\n",
    "    print(\"\\n\")\n",
    "    print(\"Val_loss is = \",score1[0])\n",
    "    print(\"\\n\")\n",
    "    print(\"Accuracy is = \",score1[1])\n",
    "    return out3"
   ]
  },
  {
   "cell_type": "code",
   "execution_count": 292,
   "metadata": {},
   "outputs": [
    {
     "name": "stdout",
     "output_type": "stream",
     "text": [
      "Epoch 1/8\n",
      "150/150 [==============================] - 1s 3ms/step - loss: 0.9181 - accuracy: 0.7524 - val_loss: 0.3750 - val_accuracy: 0.8840\n",
      "Epoch 2/8\n",
      "150/150 [==============================] - 0s 2ms/step - loss: 0.2714 - accuracy: 0.9207 - val_loss: 0.2667 - val_accuracy: 0.9208\n",
      "Epoch 3/8\n",
      "150/150 [==============================] - 0s 2ms/step - loss: 0.1901 - accuracy: 0.9459 - val_loss: 0.2259 - val_accuracy: 0.9338\n",
      "Epoch 4/8\n",
      "150/150 [==============================] - 0s 2ms/step - loss: 0.1457 - accuracy: 0.9580 - val_loss: 0.1983 - val_accuracy: 0.9393\n",
      "Epoch 5/8\n",
      "150/150 [==============================] - 0s 2ms/step - loss: 0.1173 - accuracy: 0.9682 - val_loss: 0.1782 - val_accuracy: 0.9467\n",
      "Epoch 6/8\n",
      "150/150 [==============================] - 0s 2ms/step - loss: 0.0914 - accuracy: 0.9742 - val_loss: 0.1716 - val_accuracy: 0.9487\n",
      "Epoch 7/8\n",
      "150/150 [==============================] - 0s 2ms/step - loss: 0.0791 - accuracy: 0.9776 - val_loss: 0.1893 - val_accuracy: 0.9436\n",
      "Epoch 8/8\n",
      "150/150 [==============================] - 0s 2ms/step - loss: 0.0627 - accuracy: 0.9812 - val_loss: 0.1679 - val_accuracy: 0.9504\n",
      "125/125 [==============================] - 0s 643us/step - loss: 0.1679 - accuracy: 0.9504\n",
      "\n",
      "\n",
      "Val_loss is =  0.16793030500411987\n",
      "\n",
      "\n",
      "Accuracy is =  0.9503999948501587\n"
     ]
    },
    {
     "data": {
      "text/plain": [
       "<matplotlib.legend.Legend at 0x20701b7d3a0>"
      ]
     },
     "execution_count": 292,
     "metadata": {},
     "output_type": "execute_result"
    },
    {
     "data": {
      "image/png": "[encoded data removed]",
      "text/plain": [
       "<Figure size 432x288 with 1 Axes>"
      ]
     },
     "metadata": {
      "needs_background": "light"
     },
     "output_type": "display_data"
    }
   ],
   "source": [
    "out3 = MLP_withoutdropout(X_train1,Y_train1,X_test1,Y_test1)\n",
    "\n",
    "\n",
    "plt.plot(out3.history['loss'])\n",
    "plt.plot(out3.history['val_loss'])\n",
    "plt.title('MLP Without Dropout')\n",
    "plt.ylabel('Loss')\n",
    "plt.xlabel('epoch')\n",
    "plt.legend(['train_set', 'val_set'], loc='upper right')\n",
    "    \n"
   ]
  },
  {
   "cell_type": "code",
   "execution_count": 325,
   "metadata": {},
   "outputs": [],
   "source": [
    "def MLP_withdropout(X_train1,Y_train1,X_test1,Y_test1):\n",
    "    \n",
    "    #You can also simply add layers via the .add() method:\n",
    "    model = Sequential()\n",
    "    model.add(Dense(100, input_shape=(784,), activation='relu'))\n",
    "    \n",
    "    model.add(Flatten())\n",
    "    \n",
    "    model.add(Dropout(0.2))\n",
    "    model.add(Dense(100, activation='relu'))\n",
    "    \n",
    "    model.add(Flatten())\n",
    "    model.add(Dropout(0.3))\n",
    "    model.add(Dense(100, activation='sigmoid'))\n",
    "    \n",
    "    model.add(Flatten())\n",
    "    model.add(Dropout(0.3))\n",
    "    model.add(Dense(10, activation='sigmoid'))\n",
    "\n",
    "    \n",
    "    # compiling the sequential model\n",
    "    \n",
    "    model.compile(loss='categorical_crossentropy', metrics=['accuracy'], optimizer='adam')\n",
    "    \n",
    "    # training the model for 10 epochs\n",
    "    out3 = model.fit(X_train1, Y_train1, batch_size=80, epochs=10, validation_data=(X_test1, Y_test1))\n",
    "    score1 = model.evaluate(X_test1,Y_test1,batch_size = 80)\n",
    "    print(\"\\n\")\n",
    "    print(\"Val_loss is = \",score1[0])\n",
    "    print(\"\\n\")\n",
    "    print(\"Accuracy is = \",score1[1])\n",
    "    return out3"
   ]
  },
  {
   "cell_type": "code",
   "execution_count": 326,
   "metadata": {},
   "outputs": [
    {
     "name": "stdout",
     "output_type": "stream",
     "text": [
      "Epoch 1/10\n",
      "13/13 [==============================] - 1s 32ms/step - loss: 2.5692 - accuracy: 0.0986 - val_loss: 2.1843 - val_accuracy: 0.3238\n",
      "Epoch 2/10\n",
      "13/13 [==============================] - 0s 10ms/step - loss: 2.2045 - accuracy: 0.2327 - val_loss: 1.8961 - val_accuracy: 0.4879\n",
      "Epoch 3/10\n",
      "13/13 [==============================] - 0s 10ms/step - loss: 1.9188 - accuracy: 0.3633 - val_loss: 1.5199 - val_accuracy: 0.5769\n",
      "Epoch 4/10\n",
      "13/13 [==============================] - 0s 10ms/step - loss: 1.5444 - accuracy: 0.5417 - val_loss: 1.1773 - val_accuracy: 0.6838\n",
      "Epoch 5/10\n",
      "13/13 [==============================] - 0s 10ms/step - loss: 1.2613 - accuracy: 0.6375 - val_loss: 0.9525 - val_accuracy: 0.7732\n",
      "Epoch 6/10\n",
      "13/13 [==============================] - 0s 10ms/step - loss: 1.0565 - accuracy: 0.7172 - val_loss: 0.7954 - val_accuracy: 0.8022\n",
      "Epoch 7/10\n",
      "13/13 [==============================] - 0s 10ms/step - loss: 0.8755 - accuracy: 0.7718 - val_loss: 0.7027 - val_accuracy: 0.8254\n",
      "Epoch 8/10\n",
      "13/13 [==============================] - 0s 10ms/step - loss: 0.7584 - accuracy: 0.8094 - val_loss: 0.6141 - val_accuracy: 0.8416\n",
      "Epoch 9/10\n",
      "13/13 [==============================] - 0s 10ms/step - loss: 0.6683 - accuracy: 0.8175 - val_loss: 0.5564 - val_accuracy: 0.8525\n",
      "Epoch 10/10\n",
      "13/13 [==============================] - 0s 10ms/step - loss: 0.5924 - accuracy: 0.8465 - val_loss: 0.5387 - val_accuracy: 0.8462\n",
      "125/125 [==============================] - 0s 764us/step - loss: 0.5387 - accuracy: 0.8462\n",
      "\n",
      "\n",
      "Val_loss is =  0.538666844367981\n",
      "\n",
      "\n",
      "Accuracy is =  0.8461999893188477\n",
      "Epoch 1/10\n",
      "38/38 [==============================] - 1s 11ms/step - loss: 2.3401 - accuracy: 0.1631 - val_loss: 1.4822 - val_accuracy: 0.7166\n",
      "Epoch 2/10\n",
      "38/38 [==============================] - 0s 5ms/step - loss: 1.4125 - accuracy: 0.5863 - val_loss: 0.7972 - val_accuracy: 0.8154\n",
      "Epoch 3/10\n",
      "38/38 [==============================] - 0s 5ms/step - loss: 0.8737 - accuracy: 0.7540 - val_loss: 0.5641 - val_accuracy: 0.8593\n",
      "Epoch 4/10\n",
      "38/38 [==============================] - 0s 5ms/step - loss: 0.6329 - accuracy: 0.8316 - val_loss: 0.4489 - val_accuracy: 0.8792\n",
      "Epoch 5/10\n",
      "38/38 [==============================] - 0s 5ms/step - loss: 0.5179 - accuracy: 0.8594 - val_loss: 0.3867 - val_accuracy: 0.8902\n",
      "Epoch 6/10\n",
      "38/38 [==============================] - 0s 5ms/step - loss: 0.4319 - accuracy: 0.8843 - val_loss: 0.3644 - val_accuracy: 0.8923\n",
      "Epoch 7/10\n",
      "38/38 [==============================] - 0s 5ms/step - loss: 0.3652 - accuracy: 0.9000 - val_loss: 0.3357 - val_accuracy: 0.9008\n",
      "Epoch 8/10\n",
      "38/38 [==============================] - 0s 5ms/step - loss: 0.3211 - accuracy: 0.9038 - val_loss: 0.3103 - val_accuracy: 0.9072\n",
      "Epoch 9/10\n",
      "38/38 [==============================] - 0s 5ms/step - loss: 0.2816 - accuracy: 0.9194 - val_loss: 0.3060 - val_accuracy: 0.9076\n",
      "Epoch 10/10\n",
      "38/38 [==============================] - 0s 5ms/step - loss: 0.2512 - accuracy: 0.9331 - val_loss: 0.2872 - val_accuracy: 0.9140\n",
      "125/125 [==============================] - 0s 756us/step - loss: 0.2872 - accuracy: 0.9140\n",
      "\n",
      "\n",
      "Val_loss is =  0.2872411608695984\n",
      "\n",
      "\n",
      "Accuracy is =  0.9139999747276306\n",
      "Epoch 1/10\n",
      "63/63 [==============================] - 1s 8ms/step - loss: 2.1666 - accuracy: 0.2307 - val_loss: 0.9696 - val_accuracy: 0.7315\n",
      "Epoch 2/10\n",
      "63/63 [==============================] - 0s 4ms/step - loss: 0.9584 - accuracy: 0.7169 - val_loss: 0.5182 - val_accuracy: 0.8730\n",
      "Epoch 3/10\n",
      "63/63 [==============================] - 0s 4ms/step - loss: 0.6071 - accuracy: 0.8304 - val_loss: 0.3859 - val_accuracy: 0.8924\n",
      "Epoch 4/10\n",
      "63/63 [==============================] - 0s 4ms/step - loss: 0.4429 - accuracy: 0.8807 - val_loss: 0.3278 - val_accuracy: 0.9050\n",
      "Epoch 5/10\n",
      "63/63 [==============================] - 0s 4ms/step - loss: 0.3668 - accuracy: 0.8994 - val_loss: 0.3035 - val_accuracy: 0.9075\n",
      "Epoch 6/10\n",
      "63/63 [==============================] - 0s 4ms/step - loss: 0.2891 - accuracy: 0.9220 - val_loss: 0.2779 - val_accuracy: 0.9164\n",
      "Epoch 7/10\n",
      "63/63 [==============================] - 0s 4ms/step - loss: 0.2594 - accuracy: 0.9271 - val_loss: 0.2624 - val_accuracy: 0.9223\n",
      "Epoch 8/10\n",
      "63/63 [==============================] - 0s 4ms/step - loss: 0.2311 - accuracy: 0.9361 - val_loss: 0.2502 - val_accuracy: 0.9255\n",
      "Epoch 9/10\n",
      "63/63 [==============================] - 0s 4ms/step - loss: 0.2157 - accuracy: 0.9393 - val_loss: 0.2430 - val_accuracy: 0.9266\n",
      "Epoch 10/10\n",
      "63/63 [==============================] - 0s 4ms/step - loss: 0.1815 - accuracy: 0.9515 - val_loss: 0.2317 - val_accuracy: 0.9314\n",
      "125/125 [==============================] - 0s 764us/step - loss: 0.2317 - accuracy: 0.9314\n",
      "\n",
      "\n",
      "Val_loss is =  0.23174774646759033\n",
      "\n",
      "\n",
      "Accuracy is =  0.9314000010490417\n",
      "Epoch 1/10\n",
      "88/88 [==============================] - 1s 6ms/step - loss: 2.0525 - accuracy: 0.2988 - val_loss: 0.7158 - val_accuracy: 0.8326\n",
      "Epoch 2/10\n",
      "88/88 [==============================] - 0s 3ms/step - loss: 0.7647 - accuracy: 0.7875 - val_loss: 0.4113 - val_accuracy: 0.8883\n",
      "Epoch 3/10\n",
      "88/88 [==============================] - 0s 3ms/step - loss: 0.4806 - accuracy: 0.8678 - val_loss: 0.3216 - val_accuracy: 0.9074\n",
      "Epoch 4/10\n",
      "88/88 [==============================] - 0s 3ms/step - loss: 0.3738 - accuracy: 0.8962 - val_loss: 0.2848 - val_accuracy: 0.9180\n",
      "Epoch 5/10\n",
      "88/88 [==============================] - 0s 3ms/step - loss: 0.3083 - accuracy: 0.9143 - val_loss: 0.2626 - val_accuracy: 0.9223\n",
      "Epoch 6/10\n",
      "88/88 [==============================] - 0s 3ms/step - loss: 0.2773 - accuracy: 0.9231 - val_loss: 0.2481 - val_accuracy: 0.9270\n",
      "Epoch 7/10\n",
      "88/88 [==============================] - 0s 3ms/step - loss: 0.2340 - accuracy: 0.9349 - val_loss: 0.2409 - val_accuracy: 0.9299\n",
      "Epoch 8/10\n",
      "88/88 [==============================] - 0s 3ms/step - loss: 0.2024 - accuracy: 0.9477 - val_loss: 0.2360 - val_accuracy: 0.9299\n",
      "Epoch 9/10\n",
      "88/88 [==============================] - 0s 3ms/step - loss: 0.2016 - accuracy: 0.9446 - val_loss: 0.2256 - val_accuracy: 0.9353\n",
      "Epoch 10/10\n",
      "88/88 [==============================] - 0s 3ms/step - loss: 0.1763 - accuracy: 0.9514 - val_loss: 0.2184 - val_accuracy: 0.9351\n",
      "125/125 [==============================] - 0s 764us/step - loss: 0.2184 - accuracy: 0.9351\n",
      "\n",
      "\n",
      "Val_loss is =  0.2184009552001953\n",
      "\n",
      "\n",
      "Accuracy is =  0.9351000189781189\n",
      "Epoch 1/10\n",
      "113/113 [==============================] - 1s 5ms/step - loss: 1.8759 - accuracy: 0.3569 - val_loss: 0.5716 - val_accuracy: 0.8544\n",
      "Epoch 2/10\n",
      "113/113 [==============================] - 0s 3ms/step - loss: 0.6329 - accuracy: 0.8229 - val_loss: 0.3632 - val_accuracy: 0.8998\n",
      "Epoch 3/10\n",
      "113/113 [==============================] - 0s 3ms/step - loss: 0.4366 - accuracy: 0.8826 - val_loss: 0.2962 - val_accuracy: 0.9139\n",
      "Epoch 4/10\n",
      "113/113 [==============================] - 0s 3ms/step - loss: 0.3290 - accuracy: 0.9083 - val_loss: 0.2737 - val_accuracy: 0.9186\n",
      "Epoch 5/10\n",
      "113/113 [==============================] - 0s 3ms/step - loss: 0.2868 - accuracy: 0.9213 - val_loss: 0.2453 - val_accuracy: 0.9260\n",
      "Epoch 6/10\n",
      "113/113 [==============================] - 0s 3ms/step - loss: 0.2506 - accuracy: 0.9307 - val_loss: 0.2338 - val_accuracy: 0.9323\n",
      "Epoch 7/10\n",
      "113/113 [==============================] - 0s 3ms/step - loss: 0.2137 - accuracy: 0.9381 - val_loss: 0.2188 - val_accuracy: 0.9358\n",
      "Epoch 8/10\n",
      "113/113 [==============================] - 0s 3ms/step - loss: 0.1973 - accuracy: 0.9431 - val_loss: 0.2092 - val_accuracy: 0.9368\n",
      "Epoch 9/10\n",
      "113/113 [==============================] - 0s 3ms/step - loss: 0.1771 - accuracy: 0.9528 - val_loss: 0.2026 - val_accuracy: 0.9403\n",
      "Epoch 10/10\n",
      "113/113 [==============================] - 0s 3ms/step - loss: 0.1601 - accuracy: 0.9532 - val_loss: 0.2016 - val_accuracy: 0.9449\n",
      "125/125 [==============================] - 0s 774us/step - loss: 0.2016 - accuracy: 0.9449\n",
      "\n",
      "\n",
      "Val_loss is =  0.20159652829170227\n",
      "\n",
      "\n",
      "Accuracy is =  0.9448999762535095\n"
     ]
    }
   ],
   "source": [
    "t_size1 = [1000, 3000, 5000, 7000, 9000]\n",
    "mlp = []\n",
    "for i in range(5):\n",
    "    hist = MLP_withdropout(X_train1[0:t_size[i]],Y_train1[0:t_size[i]], X_test1, Y_test1)\n",
    "    mlp.append(hist)"
   ]
  },
  {
   "cell_type": "code",
   "execution_count": 327,
   "metadata": {},
   "outputs": [
    {
     "name": "stdout",
     "output_type": "stream",
     "text": [
      "Epoch 1/10\n",
      "150/150 [==============================] - 1s 4ms/step - loss: 1.7550 - accuracy: 0.4061 - val_loss: 0.4609 - val_accuracy: 0.8736\n",
      "Epoch 2/10\n",
      "150/150 [==============================] - 0s 2ms/step - loss: 0.5280 - accuracy: 0.8504 - val_loss: 0.2971 - val_accuracy: 0.9130\n",
      "Epoch 3/10\n",
      "150/150 [==============================] - 0s 2ms/step - loss: 0.3614 - accuracy: 0.8939 - val_loss: 0.2476 - val_accuracy: 0.9260\n",
      "Epoch 4/10\n",
      "150/150 [==============================] - 0s 2ms/step - loss: 0.2806 - accuracy: 0.9224 - val_loss: 0.2384 - val_accuracy: 0.9278\n",
      "Epoch 5/10\n",
      "150/150 [==============================] - 0s 2ms/step - loss: 0.2327 - accuracy: 0.9338 - val_loss: 0.2069 - val_accuracy: 0.9383\n",
      "Epoch 6/10\n",
      "150/150 [==============================] - 0s 2ms/step - loss: 0.2059 - accuracy: 0.9399 - val_loss: 0.1931 - val_accuracy: 0.9427\n",
      "Epoch 7/10\n",
      "150/150 [==============================] - 0s 2ms/step - loss: 0.1900 - accuracy: 0.9474 - val_loss: 0.1829 - val_accuracy: 0.9464\n",
      "Epoch 8/10\n",
      "150/150 [==============================] - 0s 2ms/step - loss: 0.1607 - accuracy: 0.9555 - val_loss: 0.1734 - val_accuracy: 0.9483\n",
      "Epoch 9/10\n",
      "150/150 [==============================] - 0s 2ms/step - loss: 0.1534 - accuracy: 0.9569 - val_loss: 0.1758 - val_accuracy: 0.9503\n",
      "Epoch 10/10\n",
      "150/150 [==============================] - 0s 2ms/step - loss: 0.1368 - accuracy: 0.9596 - val_loss: 0.1692 - val_accuracy: 0.9520\n",
      "125/125 [==============================] - 0s 748us/step - loss: 0.1692 - accuracy: 0.9520\n",
      "\n",
      "\n",
      "Val_loss is =  0.16918137669563293\n",
      "\n",
      "\n",
      "Accuracy is =  0.9520000219345093\n"
     ]
    },
    {
     "data": {
      "text/plain": [
       "<matplotlib.legend.Legend at 0x20705957e50>"
      ]
     },
     "execution_count": 327,
     "metadata": {},
     "output_type": "execute_result"
    },
    {
     "data": {
      "image/png": "[encoded data removed]",
      "text/plain": [
       "<Figure size 432x288 with 1 Axes>"
      ]
     },
     "metadata": {
      "needs_background": "light"
     },
     "output_type": "display_data"
    }
   ],
   "source": [
    "out3 = MLP_withdropout(X_train1,Y_train1,X_test1,Y_test1)\n",
    "\n",
    "\n",
    "plt.plot(out3.history['loss'])\n",
    "plt.plot(out3.history['val_loss'])\n",
    "plt.title('MLP with Dropout')\n",
    "plt.ylabel('Loss')\n",
    "plt.xlabel('epoch')\n",
    "plt.legend(['train_set', 'val_set'], loc='upper right')"
   ]
  },
  {
   "cell_type": "markdown",
   "metadata": {},
   "source": [
    "As we add add model with specific train size and dropout we can see there is decrease in error rate and increase in accuracy. By adding more layers in this it can increase the accuracy same is for epochs. We can see that for With dropout it is increasing accuracy and without dropout the accuracy is less in previous part.  "
   ]
  },
  {
   "cell_type": "code",
   "execution_count": 330,
   "metadata": {},
   "outputs": [
    {
     "data": {
      "image/png": "[encoded data removed]",
      "text/plain": [
       "<Figure size 432x288 with 1 Axes>"
      ]
     },
     "metadata": {
      "needs_background": "light"
     },
     "output_type": "display_data"
    }
   ],
   "source": [
    "#empty array for everything\n",
    "loss_in_mlp = []\n",
    "loss_in_cnn = []\n",
    "val_in_mlp = []\n",
    "val_in_cnn = []\n",
    "\n",
    "\n",
    "for i in range(len(t_size)):\n",
    "    loss_in_cnn.append(cnn[i].history['loss'][-1])\n",
    "    val_in_cnn.append(cnn[i].history['val_loss'][-1])\n",
    "    loss_in_mlp.append(mlp[i].history['loss'][-1])\n",
    "    val_in_mlp.append(mlp[i].history['val_loss'][-1])\n",
    "plt.plot(t_size1, loss_in_mlp)\n",
    "plt.plot(t_size1, val_in_mlp)\n",
    "plt.plot(t_size, loss_in_cnn)\n",
    "plt.plot(t_size, val_in_cnn)\n",
    "\n",
    "plt.title('MLP and CNN comparison')\n",
    "plt.xlabel('Training size')\n",
    "plt.ylabel('loss in model')\n",
    "plt.legend(['Loss in MLP', 'Val in MLP','Loss in CNN', 'Val in CNN'], loc='upper right')\n",
    "plt.show()"
   ]
  },
  {
   "cell_type": "code",
   "execution_count": null,
   "metadata": {},
   "outputs": [],
   "source": []
  }
 ],
 "metadata": {
  "kernelspec": {
   "display_name": "Python 3",
   "language": "python",
   "name": "python3"
  },
  "language_info": {
   "codemirror_mode": {
    "name": "ipython",
    "version": 3
   },
   "file_extension": ".py",
   "mimetype": "text/x-python",
   "name": "python",
   "nbconvert_exporter": "python",
   "pygments_lexer": "ipython3",
   "version": "3.8.5"
  }
 },
 "nbformat": 4,
 "nbformat_minor": 4
}
